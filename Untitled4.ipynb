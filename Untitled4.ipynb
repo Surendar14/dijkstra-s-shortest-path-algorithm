{
  "metadata": {
    "language_info": {
      "codemirror_mode": {
        "name": "python",
        "version": 3
      },
      "file_extension": ".py",
      "mimetype": "text/x-python",
      "name": "python",
      "nbconvert_exporter": "python",
      "pygments_lexer": "ipython3",
      "version": "3.8"
    },
    "kernelspec": {
      "name": "python",
      "display_name": "Pyolite",
      "language": "python"
    }
  },
  "nbformat_minor": 4,
  "nbformat": 4,
  "cells": [
    {
      "cell_type": "code",
      "source": "%matplotlib inline\nimport matplotlib.pyplot as plt\nimport random\nimport math\nimport sys\nfrom collections import defaultdict, deque, Counter\nfrom itertools import combinations\nimport heapq",
      "metadata": {
        "trusted": true
      },
      "execution_count": 1,
      "outputs": []
    },
    {
      "cell_type": "code",
      "source": "class Problem(object):\n    \"\"\"The abstract class for a formal problem. A new domain subclasses this,\n    overriding `actions` and `results`, and perhaps other methods.\n    The default heuristic is 0 and the default action cost is 1 for all states.\n    When yiou create an instance of a subclass, specify `initial`, and `goal` states \n    (or give an `is_goal` method) and perhaps other keyword args for the subclass.\"\"\"\n\n    def __init__(self, initial=None, goal=None, **kwds): \n        self.__dict__.update(initial=initial, goal=goal, **kwds) \n        \n    def actions(self, state):        \n        raise NotImplementedError\n    def result(self, state, action): \n        raise NotImplementedError\n    def is_goal(self, state):        \n        return state == self.goal\n    def action_cost(self, s, a, s1): \n        return 1\n    \n    def __str__(self):\n        return '{0}({1}, {2})'.format(\n            type(self).__name__, self.initial, self.goal)",
      "metadata": {
        "trusted": true
      },
      "execution_count": 2,
      "outputs": []
    },
    {
      "cell_type": "code",
      "source": "class Node:\n    \"A Node in a search tree.\"\n    def __init__(self, state, parent=None, action=None, path_cost=0):\n        self.__dict__.update(state=state, parent=parent, action=action, path_cost=path_cost)\n\n    def __str__(self): \n        return '<{0}>'.format(self.state)\n    def __len__(self): \n        return 0 if self.parent is None else (1 + len(self.parent))\n    def __lt__(self, other): \n        return self.path_cost < other.path_cost",
      "metadata": {
        "trusted": true
      },
      "execution_count": 3,
      "outputs": []
    },
    {
      "cell_type": "code",
      "source": "failure = Node('failure', path_cost=math.inf) # Indicates an algorithm couldn't find a solution.\ncutoff  = Node('cutoff',  path_cost=math.inf) # Indicates iterative deepening search was cut off.",
      "metadata": {
        "trusted": true
      },
      "execution_count": 4,
      "outputs": []
    },
    {
      "cell_type": "code",
      "source": "def expand(problem, node):\n    \"Expand a node, generating the children nodes.\"\n    s = node.state\n    for action in problem.actions(s):\n        s1 = problem.result(s, action)\n        cost = node.path_cost + problem.action_cost(s, action, s1)\n        yield Node(s1, node, action, cost)\n        \n\ndef path_actions(node):\n    \"The sequence of actions to get to this node.\"\n    if node.parent is None:\n        return []  \n    return path_actions(node.parent) + [node.action]\n\n\ndef path_states(node):\n    \"The sequence of states to get to this node.\"\n    if node in (cutoff, failure, None): \n        return []\n    return path_states(node.parent) + [node.state]",
      "metadata": {
        "trusted": true
      },
      "execution_count": 5,
      "outputs": []
    },
    {
      "cell_type": "code",
      "source": "class PriorityQueue:\n    \"\"\"A queue in which the item with minimum f(item) is always popped first.\"\"\"\n\n    def __init__(self, items=(), key=lambda x: x): \n        self.key = key\n        self.items = [] # a heap of (score, item) pairs\n        for item in items:\n            self.add(item)\n         \n    def add(self, item):\n        \"\"\"Add item to the queuez.\"\"\"\n        pair = (self.key(item), item)\n        heapq.heappush(self.items, pair)\n\n    def pop(self):\n        \"\"\"Pop and return the item with min f(item) value.\"\"\"\n        return heapq.heappop(self.items)[1]\n    \n    def top(self): return self.items[0][1]\n\n    def __len__(self): return len(self.items)",
      "metadata": {
        "trusted": true
      },
      "execution_count": 6,
      "outputs": []
    },
    {
      "cell_type": "code",
      "source": "def best_first_search(problem, f):\n    \"Search nodes with minimum f(node) value first.\"\n    node = Node(problem.initial)\n    frontier = PriorityQueue([node], key=f)\n    reached = {problem.initial: node}\n    while frontier:\n        node = frontier.pop()\n        if problem .is_goal(node.state):\n            return node\n        for child in expand(problem, node):\n            s=child.state\n            if s not in reached or child.path_cost < reached[s].path_cost:\n                reached[s] = child\n                frontier.add(child)\n    return failure\n\ndef g(n): \n    return n.path_cost",
      "metadata": {
        "trusted": true
      },
      "execution_count": 7,
      "outputs": []
    },
    {
      "cell_type": "code",
      "source": "class RouteProblem(Problem):\n    \"\"\"A problem to find a route between locations on a `Map`.\n    Create a problem with RouteProblem(start, goal, map=Map(...)}).\n    States are the vertexes in the Map graph; actions are destination states.\"\"\"\n    \n    def actions(self, state): \n        \"\"\"The places neighboring `state`.\"\"\"\n        return self.map.neighbors[state]\n    \n    def result(self, state, action):\n        \"\"\"Go to the `action` place, if the map says that is possible.\"\"\"\n        return action if action in self.map.neighbors[state] else state\n    \n    def action_cost(self, s, action, s1):\n        \"\"\"The distance (cost) to go from s to s1.\"\"\"\n        return self.map.distances[s, s1]\n    \n    def h(self, node):\n        \"Straight-line distance between state and the goal.\"\n        locs = self.map.locations\n        return straight_line_distance(locs[node.state], locs[self.goal])\n    ",
      "metadata": {
        "trusted": true
      },
      "execution_count": 8,
      "outputs": []
    },
    {
      "cell_type": "code",
      "source": "class Map:\n    \"\"\"A map of places in a 2D world: a graph with vertexes and links between them. \n    In `Map(links, locations)`, `links` can be either [(v1, v2)...] pairs, \n    or a {(v1, v2): distance...} dict. Optional `locations` can be {v1: (x, y)} \n    If `directed=False` then for every (v1, v2) link, we add a (v2, v1) link.\"\"\"\n\n    def __init__(self, links, locations=None, directed=False):\n        if not hasattr(links, 'items'): # Distances are 1 by default\n            links = {link: 1 for link in links}\n        if not directed:\n            for (v1, v2) in list(links):\n                links[v2, v1] = links[v1, v2]\n        self.distances = links\n        self.neighbors = multimap(links)\n        self.locations = locations or defaultdict(lambda: (0, 0))\n\n        \ndef multimap(pairs) -> dict:\n    \"Given (key, val) pairs, make a dict of {key: [val,...]}.\"\n    result = defaultdict(list)\n    for key, val in pairs:\n        result[key].append(val)\n    return result",
      "metadata": {
        "trusted": true
      },
      "execution_count": 9,
      "outputs": []
    },
    {
      "cell_type": "code",
      "source": "saveetha_nearby_locations = Map(\n    {('SaveethaHospital', 'Chembarambakkam'):  7, ('Chembarambakkam', 'PoonamalleeBridge'): 6, ('PoonamalleeBridge', 'PoonamalleeBusTerminus'): 1, ('PoonamalleeBridge', 'SaveethaDentalCollege'): 3, ('PoonamalleeBusTerminus', 'Kattupakkam'): 2, \n     ('SaveethaDentalCollege', 'Kattupakkam'): 2, ('SaveethaDentalCollege', 'Maduravoyal'):  5, ('Maduravoyal', 'Koyambedu'): 5, ('Koyambedu', 'Vadapalani'): 5, ('Kattupakkam', 'Porur'): 4, \n     ('Porur', 'Vadapalani'): 8, ('Vadapalani', 'Gundy'):  8, ('Porur', 'Gundy'): 10, ('Gundy', 'ChennaiAirport'): 10})\n\n\nr0 = RouteProblem('Maduravoyal', 'ChennaiAirport', map=saveetha_nearby_locations)\nr1 = RouteProblem('SaveethaHospital', 'Gundy', map=saveetha_nearby_locations)\nr2 = RouteProblem('Koyambedu', 'PoonamalleeBusTerminus', map=saveetha_nearby_locations)\nr3 = RouteProblem('SaveethaDentalCollege', 'ChennaiAirport', map=saveetha_nearby_locations)\nr4 = RouteProblem('ChennaiAirport', 'Madurai', map=saveetha_nearby_locations)",
      "metadata": {
        "trusted": true
      },
      "execution_count": 10,
      "outputs": []
    },
    {
      "cell_type": "code",
      "source": "goal_state_path=best_first_search(r1,g)",
      "metadata": {
        "trusted": true
      },
      "execution_count": 11,
      "outputs": []
    },
    {
      "cell_type": "code",
      "source": "print(\"GoalStateWithPath:{0}\".format(goal_state_path))",
      "metadata": {
        "trusted": true
      },
      "execution_count": 12,
      "outputs": [
        {
          "name": "stdout",
          "text": "GoalStateWithPath:<Gundy>\n",
          "output_type": "stream"
        }
      ]
    },
    {
      "cell_type": "code",
      "source": "path_states(goal_state_path) ",
      "metadata": {
        "trusted": true
      },
      "execution_count": 13,
      "outputs": [
        {
          "execution_count": 13,
          "output_type": "execute_result",
          "data": {
            "text/plain": "['SaveethaHospital',\n 'Chembarambakkam',\n 'PoonamalleeBridge',\n 'PoonamalleeBusTerminus',\n 'Kattupakkam',\n 'Porur',\n 'Gundy']"
          },
          "metadata": {}
        }
      ]
    },
    {
      "cell_type": "code",
      "source": "print(\"Total Distance={0} Kilometers\".format(goal_state_path.path_cost))",
      "metadata": {
        "trusted": true
      },
      "execution_count": 14,
      "outputs": [
        {
          "name": "stdout",
          "text": "Total Distance=30 Kilometers\n",
          "output_type": "stream"
        }
      ]
    },
    {
      "cell_type": "code",
      "source": "",
      "metadata": {},
      "execution_count": null,
      "outputs": []
    }
  ]
}